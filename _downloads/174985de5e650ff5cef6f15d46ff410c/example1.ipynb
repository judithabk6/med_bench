{
  "cells": [
    {
      "cell_type": "markdown",
      "metadata": {},
      "source": [
        "\n# Apply and compare several estimators to conduct a causal mediation analysis\n\n## Establish identifiability \n\n**med_bench** implements several estimators for the natural direct and indirect causal effects. Before moving forward with estimation, the investigator should ensure that those causal effects are identified by discussing the plausability of the identification assumptions\n\n* SUTVA (Stable Unit Treatment Values Assumption)\n* Sequential ignorability of the treatment and the mediator(s), by selecting an adequate set of confounding variables that need to be adjusted on\n* Positivity of the treatment and the mediator.\n\nIn this example we will admit those assumptions and simulate a dataset, with the following data generating process, with simple linear models.\n\n\\begin{align}X  \\sim \\mathcal{N}(0, I_p)\\end{align}\n\\begin{align}T|X  \\sim \\mbox{Bernoulli} (\\mbox{expit}( a_0 + X^t a_X ))\\end{align}\n\\begin{align}M|X, T  \\sim b_0 + X^t b_X +  b_T T + \\mathcal{N}(0, \\sigma_M^2)\\end{align}\n\\begin{align}Y|X, T, M  \\sim c_0 + c_T T+ X^t c_X + c_M M + \\mathcal{N}(0, \\sigma_Y^2)\\end{align}\n\nWe use the function :func:`simulate_data <med_bench.get_simulated_data.simulate_data>` to obtain a full simulated dataset for mediation analysis.\n"
      ]
    },
    {
      "cell_type": "code",
      "execution_count": null,
      "metadata": {
        "collapsed": false
      },
      "outputs": [],
      "source": [
        "from med_bench.get_simulated_data import simulate_data\nfrom med_bench.estimation.mediation_coefficient_product import CoefficientProduct\n\nfrom numpy.random import default_rng\nimport matplotlib.pyplot as plt\nimport seaborn as sns\nimport pandas as pd\n\nrg = default_rng(42)\n\n(x, t, m, y, total, theta_1, theta_0,\n delta_1, delta_0, p_t, th_p_t_mx) = \\\n    simulate_data(n=500,\n                  rg=rg,\n                  mis_spec_m=False,\n                  mis_spec_y=False,\n                  dim_x=5,\n                  dim_m=1,\n                  seed=5,\n                  type_m='continuous',\n                  sigma_y=0.5,\n                  sigma_m=0.5,\n                  beta_t_factor=0.2,\n                  beta_m_factor=5)"
      ]
    },
    {
      "cell_type": "markdown",
      "metadata": {},
      "source": [
        "We can check the true values of the effects\n\n"
      ]
    },
    {
      "cell_type": "code",
      "execution_count": null,
      "metadata": {
        "collapsed": false
      },
      "outputs": [],
      "source": [
        "print_effects = ('total effect: {:.2f}\\n'\n                'direct effect: {:.2f}\\n'\n                'indirect effect: {:.2f}')\nprint('True effects')\nprint(print_effects.format(total, theta_1, delta_0))"
      ]
    },
    {
      "cell_type": "markdown",
      "metadata": {},
      "source": [
        "Contrary to the sequential ignorability assumption, the positivity assumption can be checked experimentally (not a guarantee but a good indication). We represent the distribution of $P(T=1|X, M)$ for the treated and the untreated.\n\n"
      ]
    },
    {
      "cell_type": "code",
      "execution_count": null,
      "metadata": {
        "collapsed": false
      },
      "outputs": [],
      "source": [
        "th_df = pd.DataFrame(zip(th_p_t_mx, t.ravel()), columns=['th_p_t_mx', 't'])\nsns.displot(data=th_df, x='th_p_t_mx', hue='t')\nplt.show()"
      ]
    },
    {
      "cell_type": "markdown",
      "metadata": {},
      "source": [
        "## Apply a baseline causal mediation estimator to your data: the coefficient product\nWe se that there are individuals from both treatment groups for all propensity values, which is supporting (bot not proving) the positivity assumption. Let's now proceed with estimation. We begin with the simple coefficient product approach.\n\n"
      ]
    },
    {
      "cell_type": "code",
      "execution_count": null,
      "metadata": {
        "collapsed": false
      },
      "outputs": [],
      "source": [
        "estimator = CoefficientProduct(regularize=False)\nestimator.fit(t, m, x, y)\ncausal_effects = estimator.estimate(t.ravel(), m, x, y.ravel())\nprint('Estimated effects with the coefficient product')\nprint(print_effects.format(causal_effects[\"total_effect\"],\n                           causal_effects[\"direct_effect_treated\"],\n                           causal_effects[\"indirect_effect_control\"]))"
      ]
    },
    {
      "cell_type": "markdown",
      "metadata": {},
      "source": [
        "## Comparaison with the other estimators\nupcoming\n\n"
      ]
    }
  ],
  "metadata": {
    "kernelspec": {
      "display_name": "Python 3",
      "language": "python",
      "name": "python3"
    },
    "language_info": {
      "codemirror_mode": {
        "name": "ipython",
        "version": 3
      },
      "file_extension": ".py",
      "mimetype": "text/x-python",
      "name": "python",
      "nbconvert_exporter": "python",
      "pygments_lexer": "ipython3",
      "version": "3.10.17"
    }
  },
  "nbformat": 4,
  "nbformat_minor": 0
}